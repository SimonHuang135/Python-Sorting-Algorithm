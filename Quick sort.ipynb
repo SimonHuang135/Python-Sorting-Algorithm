{
 "cells": [
  {
   "cell_type": "code",
   "execution_count": null,
   "metadata": {},
   "outputs": [],
   "source": [
    "'''\n",
    "Select a pivot and divide the list into two parts, then if an element < pivot,\n",
    "put it to one side, O.W. another side\n",
    "'''"
   ]
  },
  {
   "cell_type": "code",
   "execution_count": 1,
   "metadata": {},
   "outputs": [
    {
     "name": "stdout",
     "output_type": "stream",
     "text": [
      "[1, 5, 8, 9, 10, 7]\n",
      "[1, 5, 7, 9, 10, 8]\n",
      "[1, 5, 7, 8, 10, 9]\n",
      "[1, 5, 7, 8, 9, 10]\n",
      "[1, 5, 7, 8, 9, 10]\n",
      "[1, 5, 7, 8, 9, 10]\n",
      "[1, 5, 7, 8, 9, 10]\n",
      "[1, 5, 7, 8, 9, 10]\n"
     ]
    }
   ],
   "source": [
    "def partition(arr,low,high): \n",
    "    i = low-1\n",
    "    pivot = arr[high] \n",
    "  \n",
    "    for j in range(low , high):\n",
    "        if arr[j] <= pivot: \n",
    "            i = i+1 \n",
    "            arr[i],arr[j] = arr[j],arr[i]\n",
    "\n",
    "    arr[i+1],arr[high] = arr[high],arr[i+1] \n",
    "    return (i+1) \n",
    "\n",
    "def quickSort(arr,low,high): \n",
    "    if low < high: \n",
    "        pi = partition(arr,low,high) \n",
    "        quickSort(arr, low, pi-1)\n",
    "        print(arr)\n",
    "        quickSort(arr, pi+1, high) \n",
    "        print(arr)\n",
    "\n",
    "arr = [10, 7, 8, 9, 1, 5] \n",
    "n = len(arr) \n",
    "quickSort(arr,0,n-1)"
   ]
  },
  {
   "cell_type": "code",
   "execution_count": null,
   "metadata": {},
   "outputs": [],
   "source": []
  }
 ],
 "metadata": {
  "kernelspec": {
   "display_name": "Python 3",
   "language": "python",
   "name": "python3"
  },
  "language_info": {
   "codemirror_mode": {
    "name": "ipython",
    "version": 3
   },
   "file_extension": ".py",
   "mimetype": "text/x-python",
   "name": "python",
   "nbconvert_exporter": "python",
   "pygments_lexer": "ipython3",
   "version": "3.7.2"
  }
 },
 "nbformat": 4,
 "nbformat_minor": 2
}
